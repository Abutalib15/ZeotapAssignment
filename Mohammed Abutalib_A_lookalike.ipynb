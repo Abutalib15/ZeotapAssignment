{
 "cells": [
  {
   "cell_type": "code",
   "execution_count": 2,
   "id": "65b9395f-604a-4f9e-9f5b-1471da0ed14d",
   "metadata": {},
   "outputs": [
    {
     "name": "stdout",
     "output_type": "stream",
     "text": [
      "<class 'pandas.core.frame.DataFrame'>\n",
      "RangeIndex: 200 entries, 0 to 199\n",
      "Data columns (total 4 columns):\n",
      " #   Column        Non-Null Count  Dtype \n",
      "---  ------        --------------  ----- \n",
      " 0   CustomerID    200 non-null    object\n",
      " 1   CustomerName  200 non-null    object\n",
      " 2   Region        200 non-null    object\n",
      " 3   SignupDate    200 non-null    object\n",
      "dtypes: object(4)\n",
      "memory usage: 6.4+ KB\n",
      "<class 'pandas.core.frame.DataFrame'>\n",
      "RangeIndex: 100 entries, 0 to 99\n",
      "Data columns (total 4 columns):\n",
      " #   Column       Non-Null Count  Dtype  \n",
      "---  ------       --------------  -----  \n",
      " 0   ProductID    100 non-null    object \n",
      " 1   ProductName  100 non-null    object \n",
      " 2   Category     100 non-null    object \n",
      " 3   Price        100 non-null    float64\n",
      "dtypes: float64(1), object(3)\n",
      "memory usage: 3.3+ KB\n",
      "<class 'pandas.core.frame.DataFrame'>\n",
      "RangeIndex: 1000 entries, 0 to 999\n",
      "Data columns (total 7 columns):\n",
      " #   Column           Non-Null Count  Dtype  \n",
      "---  ------           --------------  -----  \n",
      " 0   TransactionID    1000 non-null   object \n",
      " 1   CustomerID       1000 non-null   object \n",
      " 2   ProductID        1000 non-null   object \n",
      " 3   TransactionDate  1000 non-null   object \n",
      " 4   Quantity         1000 non-null   int64  \n",
      " 5   TotalValue       1000 non-null   float64\n",
      " 6   Price            1000 non-null   float64\n",
      "dtypes: float64(2), int64(1), object(4)\n",
      "memory usage: 54.8+ KB\n"
     ]
    },
    {
     "data": {
      "text/plain": [
       "(None,\n",
       "   CustomerID        CustomerName         Region  SignupDate\n",
       " 0      C0001    Lawrence Carroll  South America  2022-07-10\n",
       " 1      C0002      Elizabeth Lutz           Asia  2022-02-13\n",
       " 2      C0003      Michael Rivera  South America  2024-03-07\n",
       " 3      C0004  Kathleen Rodriguez  South America  2022-10-09\n",
       " 4      C0005         Laura Weber           Asia  2022-08-15,\n",
       " None,\n",
       "   ProductID              ProductName     Category   Price\n",
       " 0      P001     ActiveWear Biography        Books  169.30\n",
       " 1      P002    ActiveWear Smartwatch  Electronics  346.30\n",
       " 2      P003  ComfortLiving Biography        Books   44.12\n",
       " 3      P004            BookWorld Rug   Home Decor   95.69\n",
       " 4      P005          TechPro T-Shirt     Clothing  429.31,\n",
       " None,\n",
       "   TransactionID CustomerID ProductID      TransactionDate  Quantity  \\\n",
       " 0        T00001      C0199      P067  2024-08-25 12:38:23         1   \n",
       " 1        T00112      C0146      P067  2024-05-27 22:23:54         1   \n",
       " 2        T00166      C0127      P067  2024-04-25 07:38:55         1   \n",
       " 3        T00272      C0087      P067  2024-03-26 22:55:37         2   \n",
       " 4        T00363      C0070      P067  2024-03-21 15:10:10         3   \n",
       " \n",
       "    TotalValue   Price  \n",
       " 0      300.68  300.68  \n",
       " 1      300.68  300.68  \n",
       " 2      300.68  300.68  \n",
       " 3      601.36  300.68  \n",
       " 4      902.04  300.68  )"
      ]
     },
     "execution_count": 2,
     "metadata": {},
     "output_type": "execute_result"
    }
   ],
   "source": [
    "import pandas as pd\n",
    "\n",
    "# Load the datasets\n",
    "customers = pd.read_csv('Customers.csv')\n",
    "products = pd.read_csv('Products.csv')\n",
    "transactions = pd.read_csv('Transactions.csv')\n",
    "\n",
    "# Display basic information about each dataset\n",
    "customers_info = customers.info()\n",
    "products_info = products.info()\n",
    "transactions_info = transactions.info()\n",
    "\n",
    "# Display the first few rows of each dataset\n",
    "customers_head = customers.head()\n",
    "products_head = products.head()\n",
    "transactions_head = transactions.head()\n",
    "\n",
    "customers_info, customers_head, products_info, products_head, transactions_info, transactions_head\n"
   ]
  },
  {
   "cell_type": "code",
   "execution_count": 3,
   "id": "a4f3d0c4-6cc1-4e4f-b158-ec5d920e3773",
   "metadata": {},
   "outputs": [
    {
     "data": {
      "text/plain": [
       "'Lookalike.csv'"
      ]
     },
     "execution_count": 3,
     "metadata": {},
     "output_type": "execute_result"
    }
   ],
   "source": [
    "from sklearn.metrics.pairwise import cosine_similarity\n",
    "import numpy as np\n",
    "\n",
    "# Merge datasets\n",
    "merged = transactions.merge(customers, on=\"CustomerID\").merge(products, on=\"ProductID\")\n",
    "\n",
    "# Create customer profiles\n",
    "customer_profiles = merged.groupby(\"CustomerID\").agg({\n",
    "    \"TotalValue\": \"sum\",  # Total spending\n",
    "    \"Quantity\": \"sum\",    # Total quantity purchased\n",
    "    \"Category\": lambda x: x.mode()[0],  # Most purchased category\n",
    "    \"Region\": \"first\"     # Customer's region\n",
    "}).reset_index()\n",
    "\n",
    "# Convert categorical columns to numerical for similarity calculations\n",
    "customer_profiles_encoded = pd.get_dummies(customer_profiles, columns=[\"Category\", \"Region\"])\n",
    "\n",
    "# Normalize numerical columns for consistent scaling\n",
    "from sklearn.preprocessing import MinMaxScaler\n",
    "scaler = MinMaxScaler()\n",
    "numerical_cols = [\"TotalValue\", \"Quantity\"]\n",
    "customer_profiles_encoded[numerical_cols] = scaler.fit_transform(customer_profiles_encoded[numerical_cols])\n",
    "\n",
    "# Calculate similarity scores for the first 20 customers\n",
    "subset_customers = customer_profiles_encoded.iloc[:20]\n",
    "similarity_matrix = cosine_similarity(subset_customers.iloc[:, 1:], customer_profiles_encoded.iloc[:, 1:])\n",
    "\n",
    "# Find top 3 lookalikes for each customer\n",
    "lookalike_dict = {}\n",
    "for idx, customer in enumerate(subset_customers[\"CustomerID\"]):\n",
    "    # Sort scores and get top 3 excluding self (index 0)\n",
    "    top_indices = np.argsort(-similarity_matrix[idx, :])[1:4]\n",
    "    lookalikes = [\n",
    "        (customer_profiles_encoded.iloc[i][\"CustomerID\"], similarity_matrix[idx, i])\n",
    "        for i in top_indices\n",
    "    ]\n",
    "    lookalike_dict[customer] = lookalikes\n",
    "\n",
    "# Prepare Lookalike.csv\n",
    "lookalike_output = pd.DataFrame([\n",
    "    {\"cust_id\": customer, \"lookalikes\": lookalikes}\n",
    "    for customer, lookalikes in lookalike_dict.items()\n",
    "])\n",
    "\n",
    "lookalike_path = \"Lookalike.csv\"\n",
    "lookalike_output.to_csv(lookalike_path, index=False)\n",
    "\n",
    "lookalike_path\n"
   ]
  },
  {
   "cell_type": "code",
   "execution_count": null,
   "id": "0f20a560-7901-46d9-b8af-f7700588ea42",
   "metadata": {},
   "outputs": [],
   "source": []
  }
 ],
 "metadata": {
  "kernelspec": {
   "display_name": "Python 3 (ipykernel)",
   "language": "python",
   "name": "python3"
  },
  "language_info": {
   "codemirror_mode": {
    "name": "ipython",
    "version": 3
   },
   "file_extension": ".py",
   "mimetype": "text/x-python",
   "name": "python",
   "nbconvert_exporter": "python",
   "pygments_lexer": "ipython3",
   "version": "3.12.7"
  }
 },
 "nbformat": 4,
 "nbformat_minor": 5
}
